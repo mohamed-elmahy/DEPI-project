{
  "nbformat": 4,
  "nbformat_minor": 0,
  "metadata": {
    "colab": {
      "provenance": []
    },
    "kernelspec": {
      "name": "python3",
      "display_name": "Python 3"
    },
    "language_info": {
      "name": "python"
    }
  },
  "cells": [
    {
      "cell_type": "code",
      "execution_count": null,
      "metadata": {
        "id": "GHqpR7EOmH8R"
      },
      "outputs": [],
      "source": [
        "import pandas as pd\n",
        "import numpy as np"
      ]
    },
    {
      "cell_type": "code",
      "source": [
        "# قراءة البيانات\n",
        "orders = pd.read_csv(r\"C:\\Users\\DELL\\Desktop\\after dit\\orders_clean.csv\")\n",
        "order_items = pd.read_csv(r\"C:\\Users\\DELL\\Desktop\\after dit\\order_items_clean.csv\")"
      ],
      "metadata": {
        "id": "cX7Rf1vQmNwn"
      },
      "execution_count": null,
      "outputs": []
    },
    {
      "cell_type": "code",
      "source": [
        "\n",
        "# تعويض القيم الناقصة في price_each من جدول المنتجات\n",
        "products = pd.read_csv(r\"C:\\Users\\DELL\\Desktop\\after dit\\products_clean.csv\")\n",
        "order_items = order_items.merge(products[['product_id','price']], on='product_id', how='left')\n",
        "order_items['price_each'] = order_items['price_each'].fillna(order_items['price'])\n",
        "order_items.drop(columns=['price'], inplace=True)\n",
        "\n",
        "# حساب total_amount للطلبات اللي ناقصة\n",
        "calculated_totals = order_items.groupby('order_id').apply(lambda x: (x['quantity'] * x['price_each']).sum()).reset_index(name='calculated_total')\n",
        "orders = orders.merge(calculated_totals, on='order_id', how='left')\n",
        "orders['total_amount'] = orders['total_amount'].fillna(orders['calculated_total'])\n",
        "orders.drop(columns=['calculated_total'], inplace=True)\n",
        "\n",
        "# تنظيف التواريخ\n",
        "def clean_date(date_str):\n",
        "    if pd.isna(date_str) or date_str == 'INVALID_DATE':\n",
        "        return pd.NaT\n",
        "    date_formats = ['%Y-%m-%d','%b-%d-%Y','%m-%d-%Y','%m/%d/%Y','%d/%m/%Y']\n",
        "    for fmt in date_formats:\n",
        "        try:\n",
        "            return pd.to_datetime(date_str, format=fmt)\n",
        "        except:\n",
        "            continue\n",
        "    return pd.NaT\n",
        "\n",
        "orders['clean_order_date'] = orders['order_date'].apply(clean_date)\n"
      ],
      "metadata": {
        "id": "OHrXQf0omXpB"
      },
      "execution_count": null,
      "outputs": []
    },
    {
      "cell_type": "code",
      "source": [
        "# حفظ الملف المنظف\n",
        "orders.to_csv(r\"C:\\Users\\DELL\\Desktop\\after dit\\orders_processed.csv\", index=False)\n"
      ],
      "metadata": {
        "id": "ZDvsz4HnmfeW"
      },
      "execution_count": null,
      "outputs": []
    }
  ]
}