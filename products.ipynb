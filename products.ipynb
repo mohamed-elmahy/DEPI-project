{
  "nbformat": 4,
  "nbformat_minor": 0,
  "metadata": {
    "colab": {
      "provenance": []
    },
    "kernelspec": {
      "name": "python3",
      "display_name": "Python 3"
    },
    "language_info": {
      "name": "python"
    }
  },
  "cells": [
    {
      "cell_type": "code",
      "execution_count": null,
      "metadata": {
        "id": "GHqpR7EOmH8R"
      },
      "outputs": [],
      "source": [
        "import pandas as pd\n",
        "import numpy as np"
      ]
    },
    {
      "cell_type": "code",
      "source": [
        "# قراءة البيانات\n",
        "products = pd.read_csv(r\"C:\\Users\\DELL\\Desktop\\after dit\\products_clean.csv\")"
      ],
      "metadata": {
        "id": "cX7Rf1vQmNwn"
      },
      "execution_count": null,
      "outputs": []
    },
    {
      "cell_type": "code",
      "source": [
        "\n",
        "# تقريب السعر إلى منزلتين عشريتين\n",
        "products['price'] = products['price'].round(2)\n",
        "\n",
        "# تقريب stock لعدد صحيح\n",
        "products['stock'] = products['stock'].round(0).astype('Int64')  # Int64 يسمح بالقيم الناقصة\n"
      ],
      "metadata": {
        "id": "OHrXQf0omXpB"
      },
      "execution_count": null,
      "outputs": []
    },
    {
      "cell_type": "code",
      "source": [
        "# حفظ الملف بعد التصحيح\n",
        "products.to_csv(r\"C:\\Users\\DELL\\Desktop\\after dit\\products_clean_fixed.csv\", index=False)\n"
      ],
      "metadata": {
        "id": "ZDvsz4HnmfeW"
      },
      "execution_count": null,
      "outputs": []
    }
  ]
}