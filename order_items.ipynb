{
  "nbformat": 4,
  "nbformat_minor": 0,
  "metadata": {
    "colab": {
      "provenance": []
    },
    "kernelspec": {
      "name": "python3",
      "display_name": "Python 3"
    },
    "language_info": {
      "name": "python"
    }
  },
  "cells": [
    {
      "cell_type": "code",
      "execution_count": null,
      "metadata": {
        "id": "GHqpR7EOmH8R"
      },
      "outputs": [],
      "source": [
        "import pandas as pd\n",
        "import numpy as np"
      ]
    },
    {
      "cell_type": "code",
      "source": [
        "# قراءة البيانات\n",
        "order_items = pd.read_csv(r\"C:\\Users\\DELL\\Desktop\\after dit\\order_items_clean.csv\")\n",
        "products = pd.read_csv(r\"C:\\Users\\DELL\\Desktop\\after dit\\products_clean.csv\")"
      ],
      "metadata": {
        "id": "cX7Rf1vQmNwn"
      },
      "execution_count": null,
      "outputs": []
    },
    {
      "cell_type": "code",
      "source": [
        "# تعويض القيم الناقصة في price_each من جدول المنتجات\n",
        "order_items = order_items.merge(products[['product_id','price']], on='product_id', how='left')\n",
        "order_items['price_each'] = order_items['price_each'].fillna(order_items['price'])\n",
        "order_items.drop(columns=['price'], inplace=True)\n",
        "\n",
        "# إضافة عمود للمرتجعات\n",
        "order_items['is_return'] = order_items['quantity'] < 0\n"
      ],
      "metadata": {
        "id": "OHrXQf0omXpB"
      },
      "execution_count": null,
      "outputs": []
    },
    {
      "cell_type": "code",
      "source": [
        "# حفظ الملف المنظف\n",
        "order_items.to_csv(r\"C:\\Users\\DELL\\Desktop\\after dit\\order_items_processed.csv\", index=False)\n"
      ],
      "metadata": {
        "id": "ZDvsz4HnmfeW"
      },
      "execution_count": null,
      "outputs": []
    }
  ]
}